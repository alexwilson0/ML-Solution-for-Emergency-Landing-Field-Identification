{
 "cells": [
  {
   "cell_type": "code",
   "execution_count": 7,
   "metadata": {},
   "outputs": [],
   "source": [
    "import numpy as np"
   ]
  },
  {
   "cell_type": "code",
   "execution_count": 31,
   "metadata": {},
   "outputs": [],
   "source": [
    "aircraft = {'Vtd_m/s': 25.191, 'tr_s': 3, 'g_m/s2': 9.807, 'rho_kg/m3': 1.225,\n",
    "            'wingArea_m2': 16.72, 'wingSpan_m': 11.02, 'mass_kg': 975, 'mu_R': 0.2, \n",
    "            'alpha_deg': 0, 'LDmax': 11}\n",
    "\n",
    "environment = {'accelDueToGrav_m/s2': 9.807, 'densityOfAir_kg/m3': 1.225, 'rollingFrictionCoef': 0.2}"
   ]
  },
  {
   "cell_type": "code",
   "execution_count": 32,
   "metadata": {},
   "outputs": [],
   "source": [
    "def get_CL(m, g, rho, V, S):\n",
    "    return (m*g)/(0.5*rho*V**2*S)\n",
    "\n",
    "def get_A(b, S):\n",
    "    A = b**2/S\n",
    "    return A\n",
    "\n",
    "def get_oswaldEff(b, S):\n",
    "    A = get_A(b, S)\n",
    "    e = 1.78*(1-0.045*A**0.68)-0.64 # An estimation of the Oswald's Efficiency Factor\n",
    "    return e\n",
    "\n",
    "def get_K(b, S):\n",
    "    A = get_A(b, S)\n",
    "    e = get_oswaldEff(b, S)\n",
    "    K = 1/(np.pi*A*e)\n",
    "    return K\n",
    "\n",
    "def get_CD0(LDmax, b, S):\n",
    "    K = get_K(b, S)\n",
    "    CD0 = 1/((2*LDmax)**2*K)\n",
    "    return CD0"
   ]
  },
  {
   "cell_type": "code",
   "execution_count": 10,
   "metadata": {},
   "outputs": [],
   "source": [
    "def get_ground_roll(aircraft, environment):\n",
    "    Vtd = aircraft['Vtd_m/s']\n",
    "    tr = aircraft['tr_s']\n",
    "    LDmax = aircraft['LDmax']\n",
    "    b = aircraft['wingSpan_m']\n",
    "    S = aircraft['wingArea_m2']\n",
    "    m = aircraft['mass_kg']\n",
    "\n",
    "    g = environment['accelDueToGrav_m/s2']\n",
    "    rho = environment['densityOfAir_kg/m3']\n",
    "    mu = environment['rollingFrictionCoef']\n",
    "\n",
    "    W = m*g\n",
    "\n",
    "    CL = get_CL(m, g, rho, \n",
    "                Vtd, S)\n",
    "    CD0 = get_CD0(LDmax, b, S)\n",
    "    K = get_K(b, S)\n",
    "    alpha = aircraft['alpha_deg']\n",
    "\n",
    "    ground_roll = Vtd*tr+(1/(2*g*((rho*S)/(2*W))*(mu*CL-CD0-K*CL**2)))*np.log((-np.sin(alpha)-mu*np.cos(alpha))/(-np.sin(alpha)-mu*np.cos(alpha)+((rho*S)/(2*W))*(mu*CL-CD0-K*CL**2)*Vtd**2))\n",
    "    return ground_roll\n",
    "\n",
    "def get_field_dimensions(aircraft, environment, lSF, wSF):\n",
    "    length = get_ground_roll(aircraft, environment)*lSF\n",
    "    width =  aircraft['wingSpan_m']*wSF\n",
    "    area = length * width\n",
    "    return length, width, area"
   ]
  },
  {
   "cell_type": "code",
   "execution_count": 33,
   "metadata": {},
   "outputs": [
    {
     "data": {
      "text/plain": [
       "295.78036849940406"
      ]
     },
     "execution_count": 33,
     "metadata": {},
     "output_type": "execute_result"
    }
   ],
   "source": [
    "get_ground_roll(aircraft, environment)"
   ]
  },
  {
   "cell_type": "code",
   "execution_count": 34,
   "metadata": {},
   "outputs": [
    {
     "name": "stdout",
     "output_type": "stream",
     "text": [
      "Length of field (m): 340.1\n",
      "Width of field (m): 33.1\n",
      "Area of field (m2): 11245.3\n"
     ]
    }
   ],
   "source": [
    "length_safety_factor = 1.15\n",
    "width_safety_factor = 3\n",
    "\n",
    "length, width, area = get_field_dimensions(aircraft, environment, length_safety_factor, width_safety_factor)\n",
    "\n",
    "print(\"Length of field (m):\", f'{length:.1f}')\n",
    "print(\"Width of field (m):\", f'{width:.1f}')\n",
    "print(\"Area of field (m2):\", f'{area:.1f}')"
   ]
  }
 ],
 "metadata": {
  "kernelspec": {
   "display_name": "Python 3",
   "language": "python",
   "name": "python3"
  },
  "language_info": {
   "codemirror_mode": {
    "name": "ipython",
    "version": 3
   },
   "file_extension": ".py",
   "mimetype": "text/x-python",
   "name": "python",
   "nbconvert_exporter": "python",
   "pygments_lexer": "ipython3",
   "version": "3.9.6"
  }
 },
 "nbformat": 4,
 "nbformat_minor": 2
}
